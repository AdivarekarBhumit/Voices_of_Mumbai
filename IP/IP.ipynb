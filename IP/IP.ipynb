{
 "cells": [
  {
   "cell_type": "markdown",
   "metadata": {},
   "source": [
    "# Cropping potholes"
   ]
  },
  {
   "cell_type": "code",
   "execution_count": 1,
   "metadata": {
    "ExecuteTime": {
     "end_time": "2019-02-14T01:23:51.968500Z",
     "start_time": "2019-02-14T01:23:41.895232Z"
    }
   },
   "outputs": [],
   "source": [
    "import cv2\n",
    "import numpy as np\n",
    "import matplotlib.pyplot as plt\n",
    "import os\n",
    "import pandas as pd"
   ]
  },
  {
   "cell_type": "code",
   "execution_count": 79,
   "metadata": {
    "ExecuteTime": {
     "end_time": "2019-02-10T16:55:36.423037Z",
     "start_time": "2019-02-10T16:41:28.454028Z"
    }
   },
   "outputs": [
    {
     "name": "stderr",
     "output_type": "stream",
     "text": [
      "100%|██████████| 604/604 [01:53<00:00,  5.33it/s]\n",
      "100%|██████████| 650/650 [02:00<00:00,  5.41it/s]\n",
      "100%|██████████| 1661/1661 [06:08<00:00,  6.64it/s]\n",
      "100%|██████████| 1297/1297 [04:05<00:00,  9.43it/s]\n"
     ]
    }
   ],
   "source": [
    "data_path = 'ignore/testing/'\n",
    "image_no = 1\n",
    "for i in os.listdir(data_path):\n",
    "    if not i.endswith('.csv'):\n",
    "        continue\n",
    "    df = pd.read_csv(data_path + i, names = ['Image_Path', 'potholes', 'Coordinates'])\n",
    "    for value in tqdm(df.values):\n",
    "        image_path = value[0]\n",
    "        no_potholes = int(value[1])\n",
    "        coordinates = value[2].split()\n",
    "        n = 0\n",
    "        for i in range(no_potholes):\n",
    "            x, y, w, h = coordinates[n:n + 4]\n",
    "            x, y, w, h = int(x) - 10, int(y) - 10, int(w) + 20, int(h) + 20\n",
    "            \n",
    "            n = n + 4\n",
    "            image = cv2.imread(data_path + image_path)\n",
    "            cropped = image[y:y + h, x:x + w]\n",
    "            cv2.imwrite(data_path + 'dataset/' + str(image_no) + '.jpg', cropped)\n",
    "            image_no += 1"
   ]
  },
  {
   "cell_type": "markdown",
   "metadata": {},
   "source": [
    "# Checking Distribution"
   ]
  },
  {
   "cell_type": "code",
   "execution_count": 2,
   "metadata": {
    "ExecuteTime": {
     "end_time": "2019-02-13T14:11:03.734807Z",
     "start_time": "2019-02-13T14:11:03.499522Z"
    }
   },
   "outputs": [
    {
     "data": {
      "text/html": [
       "<div>\n",
       "<style scoped>\n",
       "    .dataframe tbody tr th:only-of-type {\n",
       "        vertical-align: middle;\n",
       "    }\n",
       "\n",
       "    .dataframe tbody tr th {\n",
       "        vertical-align: top;\n",
       "    }\n",
       "\n",
       "    .dataframe thead th {\n",
       "        text-align: right;\n",
       "    }\n",
       "</style>\n",
       "<table border=\"1\" class=\"dataframe\">\n",
       "  <thead>\n",
       "    <tr style=\"text-align: right;\">\n",
       "      <th></th>\n",
       "      <th>No.</th>\n",
       "      <th>Severity</th>\n",
       "    </tr>\n",
       "  </thead>\n",
       "  <tbody>\n",
       "    <tr>\n",
       "      <th>0</th>\n",
       "      <td>1</td>\n",
       "      <td>1</td>\n",
       "    </tr>\n",
       "    <tr>\n",
       "      <th>1</th>\n",
       "      <td>2</td>\n",
       "      <td>2</td>\n",
       "    </tr>\n",
       "    <tr>\n",
       "      <th>2</th>\n",
       "      <td>3</td>\n",
       "      <td>1</td>\n",
       "    </tr>\n",
       "    <tr>\n",
       "      <th>3</th>\n",
       "      <td>4</td>\n",
       "      <td>1</td>\n",
       "    </tr>\n",
       "    <tr>\n",
       "      <th>4</th>\n",
       "      <td>5</td>\n",
       "      <td>1</td>\n",
       "    </tr>\n",
       "  </tbody>\n",
       "</table>\n",
       "</div>"
      ],
      "text/plain": [
       "   No.  Severity\n",
       "0    1         1\n",
       "1    2         2\n",
       "2    3         1\n",
       "3    4         1\n",
       "4    5         1"
      ]
     },
     "execution_count": 2,
     "metadata": {},
     "output_type": "execute_result"
    }
   ],
   "source": [
    "df = pd.read_csv('ignore/dataset/DataSet_Pothole - Sheet1.csv')\n",
    "df.head()"
   ]
  },
  {
   "cell_type": "code",
   "execution_count": 13,
   "metadata": {
    "ExecuteTime": {
     "end_time": "2019-02-13T14:17:18.823995Z",
     "start_time": "2019-02-13T14:17:18.597041Z"
    }
   },
   "outputs": [
    {
     "data": {
      "text/plain": [
       "<matplotlib.axes._subplots.AxesSubplot at 0x7f4f4093db70>"
      ]
     },
     "execution_count": 13,
     "metadata": {},
     "output_type": "execute_result"
    },
    {
     "data": {
      "image/png": "[encoded data removed]",
      "text/plain": [
       "<Figure size 432x288 with 1 Axes>"
      ]
     },
     "metadata": {},
     "output_type": "display_data"
    }
   ],
   "source": [
    "df['Severity'].hist()"
   ]
  },
  {
   "cell_type": "markdown",
   "metadata": {},
   "source": [
    "# Checking min, max width and height"
   ]
  },
  {
   "cell_type": "code",
   "execution_count": 20,
   "metadata": {
    "ExecuteTime": {
     "end_time": "2019-02-13T14:30:54.282987Z",
     "start_time": "2019-02-13T14:30:53.311198Z"
    },
    "scrolled": true
   },
   "outputs": [
    {
     "name": "stderr",
     "output_type": "stream",
     "text": [
      "100%|██████████| 10343/10343 [00:00<00:00, 10993.37it/s]"
     ]
    },
    {
     "name": "stdout",
     "output_type": "stream",
     "text": [
      "22 138 234 0\n",
      "(22, 34) (46, 138) (234, 930) (60, 208)\n",
      "10312.jpg 8406.jpg 8528.jpg 749.jpg\n"
     ]
    },
    {
     "name": "stderr",
     "output_type": "stream",
     "text": [
      "\n"
     ]
    }
   ],
   "source": [
    "from tqdm import tqdm\n",
    "\n",
    "min_height, min_width, max_height, max_width = 999, 999, 0, 0\n",
    "min_height_shape, min_width_shape, max_height_shape, max_width_shape = (0, 0), (0, 0), (0, 0), (0, 0)\n",
    "min_height_name, min_width_name, max_height_name, max_width_name = '', '', '', ''\n",
    "for image in tqdm(os.listdir('ignore/dataset/dataset/')):\n",
    "    try:\n",
    "        i = cv2.imread('ignore/dataset/dataset/' + image, 0)\n",
    "        shape = i.shape\n",
    "        if min_height > shape[0]:\n",
    "            min_height = shape[0]\n",
    "            min_height_shape = shape\n",
    "            min_height_name = image\n",
    "        if min_width > shape[1]:\n",
    "            min_width = shape[1]\n",
    "            min_width_shape = shape\n",
    "            min_width_name = image\n",
    "        if max_height < shape[0]:\n",
    "            max_height = shape[0]\n",
    "            max_height_shape = shape\n",
    "            max_height_name = image\n",
    "        if min_width < shape[1]:\n",
    "            min_width = shape[1]\n",
    "            max_width_shape = shape\n",
    "            max_width_name = image\n",
    "    except Exception as e:\n",
    "        pass\n",
    "print(min_height, min_width, max_height, max_width)\n",
    "print(min_height_shape, min_width_shape, max_height_shape, max_width_shape)\n",
    "print(min_height_name, min_width_name, max_height_name, max_width_name)"
   ]
  },
  {
   "cell_type": "code",
   "execution_count": 9,
   "metadata": {
    "ExecuteTime": {
     "end_time": "2019-02-13T14:50:07.935365Z",
     "start_time": "2019-02-13T14:49:40.186997Z"
    }
   },
   "outputs": [],
   "source": [
    "im = cv2.imread('ignore/dataset/dataset/8528.jpg')\n",
    "cv2.imshow('title', im)\n",
    "im = cv2.copyMakeBorder(im, 50, 50, 50, 50, cv2.BORDER_CONSTANT)\n",
    "cv2.imshow('bordered', im)\n",
    "cv2.waitKey(0)\n",
    "cv2.destroyAllWindows()"
   ]
  },
  {
   "cell_type": "code",
   "execution_count": 3,
   "metadata": {
    "ExecuteTime": {
     "end_time": "2019-02-14T01:25:05.384329Z",
     "start_time": "2019-02-14T01:25:05.161908Z"
    }
   },
   "outputs": [],
   "source": [
    "from tqdm import tqdm"
   ]
  },
  {
   "cell_type": "code",
   "execution_count": 14,
   "metadata": {
    "ExecuteTime": {
     "end_time": "2019-02-13T15:19:31.725055Z",
     "start_time": "2019-02-13T15:19:28.067674Z"
    }
   },
   "outputs": [
    {
     "name": "stderr",
     "output_type": "stream",
     "text": [
      "100%|██████████| 10343/10343 [00:03<00:00, 2859.46it/s]\n"
     ]
    }
   ],
   "source": [
    "for image_name in tqdm(os.listdir('ignore/dataset/dataset/')):\n",
    "    try:\n",
    "        image = cv2.imread('ignore/dataset/dataset/' + image_name)\n",
    "        image = cv2.resize(image, (80, 40))\n",
    "        cv2.imwrite('ignore/dataset/resized_dataset/' + image_name, image)\n",
    "    except Exception as e:\n",
    "        pass"
   ]
  },
  {
   "cell_type": "markdown",
   "metadata": {},
   "source": [
    "# Script for balancing the dataset"
   ]
  },
  {
   "cell_type": "code",
   "execution_count": 5,
   "metadata": {
    "ExecuteTime": {
     "end_time": "2019-02-14T01:31:39.673538Z",
     "start_time": "2019-02-14T01:31:32.490450Z"
    }
   },
   "outputs": [
    {
     "name": "stderr",
     "output_type": "stream",
     "text": [
      "100%|██████████| 10335/10335 [00:06<00:00, 1493.90it/s]\n"
     ]
    },
    {
     "data": {
      "text/plain": [
       "<matplotlib.axes._subplots.AxesSubplot at 0x7fc51c57e8d0>"
      ]
     },
     "execution_count": 5,
     "metadata": {},
     "output_type": "execute_result"
    },
    {
     "data": {
      "image/png": "[encoded data removed]",
      "text/plain": [
       "<Figure size 432x288 with 1 Axes>"
      ]
     },
     "metadata": {},
     "output_type": "display_data"
    }
   ],
   "source": [
    "df = pd.read_csv('ignore/dataset/DataSet_Pothole - Sheet1.csv')\n",
    "for image_name, severity in tqdm(df.values):\n",
    "    try:\n",
    "        image = cv2.imread('ignore/dataset/dataset/' + str(image_name) + '.jpg')\n",
    "        shape = image.shape\n",
    "        image = cv2.resize(image, (80, 80))\n",
    "        if severity == 1:\n",
    "            with open('ignore/dataset/balanced.csv', 'a+') as file:\n",
    "                file.write('\\n' + str(image_name) + '.jpg, ' + str(severity))\n",
    "            cv2.imwrite('ignore/dataset/balanced/' + str(severity) + '/' + str(image_name) + '.jpg', image)\n",
    "            if shape[0] > 35 or shape[1] > 70:\n",
    "                both = cv2.flip(image, -1)\n",
    "                with open('ignore/dataset/balanced.csv', 'a+') as file:\n",
    "                    file.write('\\n' + str(image_name) + '_flipped.jpg, ' + str(severity))\n",
    "                cv2.imwrite('ignore/dataset/balanced/' + str(severity) + '/' + str(image_name) + '_flipped.jpg', both)\n",
    "        else:\n",
    "            with open('ignore/dataset/balanced.csv', 'a+') as file:\n",
    "                file.write('\\n' + str(image_name) + '.jpg, ' + str(severity))\n",
    "            cv2.imwrite('ignore/dataset/balanced/' + str(severity) + '/' + str(image_name) + '.jpg', image)\n",
    "            if severity == 3:\n",
    "                horizontal_img = cv2.flip(image, 0)\n",
    "                with open('ignore/dataset/balanced.csv', 'a+') as file:\n",
    "                    file.write('\\n' + str(image_name) + '_horizontal.jpg, ' + str(severity))\n",
    "                cv2.imwrite('ignore/dataset/balanced/' + str(severity) + '/' + str(image_name) + '_horizontal.jpg', horizontal_img)\n",
    "                vertical = cv2.flip(image, 1)\n",
    "                with open('ignore/dataset/balanced.csv', 'a+') as file:\n",
    "                    file.write('\\n' + str(image_name) + '_vertical.jpg, ' + str(severity))\n",
    "                cv2.imwrite('ignore/dataset/balanced/' + str(severity) + '/' + str(image_name) + '_vertical.jpg', vertical)\n",
    "                both = cv2.flip(image, -1)\n",
    "                with open('ignore/dataset/balanced.csv', 'a+') as file:\n",
    "                    file.write('\\n' + str(image_name) + '_flipped.jpg, ' + str(severity))\n",
    "                cv2.imwrite('ignore/dataset/balanced/' + str(severity) + '/' + str(image_name) + '_flipped.jpg', both)\n",
    "    except Exception as e:\n",
    "        pass\n",
    "df = pd.read_csv('ignore/dataset/balanced.csv')\n",
    "df.Severity.hist()"
   ]
  },
  {
   "cell_type": "markdown",
   "metadata": {},
   "source": [
    "# Flipping the Image"
   ]
  },
  {
   "cell_type": "code",
   "execution_count": 36,
   "metadata": {
    "ExecuteTime": {
     "end_time": "2019-02-13T16:34:27.719139Z",
     "start_time": "2019-02-13T16:33:51.231493Z"
    }
   },
   "outputs": [],
   "source": [
    "image = cv2.imread('ignore/dataset/dataset/8528.jpg')\n",
    "cv2.imshow('image', image)\n",
    "horizontal_img = cv2.flip( image, 0 )\n",
    "cv2.imshow('flipped', horizontal_img)\n",
    "vertical = cv2.flip( image, 1 )\n",
    "cv2.imshow('vert flipped', vertical)\n",
    "both = cv2.flip( image, -1 )\n",
    "cv2.imshow('both flipped', both)\n",
    "cv2.waitKey(0)\n",
    "cv2.destroyAllWindows()"
   ]
  },
  {
   "cell_type": "code",
   "execution_count": null,
   "metadata": {},
   "outputs": [],
   "source": []
  }
 ],
 "metadata": {
  "kernelspec": {
   "display_name": "Python 3",
   "language": "python",
   "name": "python3"
  },
  "language_info": {
   "codemirror_mode": {
    "name": "ipython",
    "version": 3
   },
   "file_extension": ".py",
   "mimetype": "text/x-python",
   "name": "python",
   "nbconvert_exporter": "python",
   "pygments_lexer": "ipython3",
   "version": "3.5.2"
  },
  "varInspector": {
   "cols": {
    "lenName": 16,
    "lenType": 16,
    "lenVar": 40
   },
   "kernels_config": {
    "python": {
     "delete_cmd_postfix": "",
     "delete_cmd_prefix": "del ",
     "library": "var_list.py",
     "varRefreshCmd": "print(var_dic_list())"
    },
    "r": {
     "delete_cmd_postfix": ") ",
     "delete_cmd_prefix": "rm(",
     "library": "var_list.r",
     "varRefreshCmd": "cat(var_dic_list()) "
    }
   },
   "types_to_exclude": [
    "module",
    "function",
    "builtin_function_or_method",
    "instance",
    "_Feature"
   ],
   "window_display": false
  }
 },
 "nbformat": 4,
 "nbformat_minor": 2
}
