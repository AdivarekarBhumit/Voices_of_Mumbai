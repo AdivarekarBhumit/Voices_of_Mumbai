{
 "cells": [
  {
   "cell_type": "code",
   "execution_count": 70,
   "metadata": {
    "ExecuteTime": {
     "end_time": "2019-02-10T15:41:12.312724Z",
     "start_time": "2019-02-10T15:41:12.306676Z"
    }
   },
   "outputs": [],
   "source": [
    "import cv2\n",
    "import numpy as np\n",
    "import matplotlib.pyplot as plt\n",
    "import os\n",
    "import pandas as pd"
   ]
  },
  {
   "cell_type": "code",
   "execution_count": 79,
   "metadata": {
    "ExecuteTime": {
     "end_time": "2019-02-10T16:55:36.423037Z",
     "start_time": "2019-02-10T16:41:28.454028Z"
    }
   },
   "outputs": [
    {
     "name": "stderr",
     "output_type": "stream",
     "text": [
      "100%|██████████| 604/604 [01:53<00:00,  5.33it/s]\n",
      "100%|██████████| 650/650 [02:00<00:00,  5.41it/s]\n",
      "100%|██████████| 1661/1661 [06:08<00:00,  6.64it/s]\n",
      "100%|██████████| 1297/1297 [04:05<00:00,  9.43it/s]\n"
     ]
    }
   ],
   "source": [
    "data_path = 'ignore/testing/'\n",
    "image_no = 1\n",
    "for i in os.listdir(data_path):\n",
    "    if not i.endswith('.csv'):\n",
    "        continue\n",
    "    df = pd.read_csv(data_path + i, names = ['Image_Path', 'potholes', 'Coordinates'])\n",
    "    for value in tqdm(df.values):\n",
    "        image_path = value[0]\n",
    "        no_potholes = int(value[1])\n",
    "        coordinates = value[2].split()\n",
    "        n = 0\n",
    "        for i in range(no_potholes):\n",
    "            x, y, w, h = coordinates[n:n + 4]\n",
    "            x, y, w, h = int(x) - 10, int(y) - 10, int(w) + 20, int(h) + 20\n",
    "            \n",
    "            n = n + 4\n",
    "            image = cv2.imread(data_path + image_path)\n",
    "            cropped = image[y:y + h, x:x + w]\n",
    "            cv2.imwrite(data_path + 'dataset/' + str(image_no) + '.jpg', cropped)\n",
    "            image_no += 1"
   ]
  },
  {
   "cell_type": "code",
   "execution_count": null,
   "metadata": {},
   "outputs": [],
   "source": []
  }
 ],
 "metadata": {
  "kernelspec": {
   "display_name": "Python 3",
   "language": "python",
   "name": "python3"
  },
  "language_info": {
   "codemirror_mode": {
    "name": "ipython",
    "version": 3
   },
   "file_extension": ".py",
   "mimetype": "text/x-python",
   "name": "python",
   "nbconvert_exporter": "python",
   "pygments_lexer": "ipython3",
   "version": "3.5.2"
  },
  "varInspector": {
   "cols": {
    "lenName": 16,
    "lenType": 16,
    "lenVar": 40
   },
   "kernels_config": {
    "python": {
     "delete_cmd_postfix": "",
     "delete_cmd_prefix": "del ",
     "library": "var_list.py",
     "varRefreshCmd": "print(var_dic_list())"
    },
    "r": {
     "delete_cmd_postfix": ") ",
     "delete_cmd_prefix": "rm(",
     "library": "var_list.r",
     "varRefreshCmd": "cat(var_dic_list()) "
    }
   },
   "types_to_exclude": [
    "module",
    "function",
    "builtin_function_or_method",
    "instance",
    "_Feature"
   ],
   "window_display": false
  }
 },
 "nbformat": 4,
 "nbformat_minor": 2
}
